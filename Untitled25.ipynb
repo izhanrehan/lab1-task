{
 "cells": [
  {
   "cell_type": "markdown",
   "id": "46a31a0c-d69b-4c34-97fe-0763f9fdc046",
   "metadata": {},
   "source": [
    "Write a script that take user input for a number then adds 3 to that number. Then multiplies the\n",
    "result by 2, subtract 4, then again adds 3, then print the result"
   ]
  },
  {
   "cell_type": "code",
   "execution_count": 7,
   "id": "5574ed19-0561-434c-87ef-7ba1fbbe3ef9",
   "metadata": {},
   "outputs": [
    {
     "name": "stdin",
     "output_type": "stream",
     "text": [
      "Enter a number:  7\n"
     ]
    },
    {
     "name": "stdout",
     "output_type": "stream",
     "text": [
      "Result: 19\n"
     ]
    }
   ],
   "source": [
    "num = int(input(\"Enter a number: \"))\n",
    "result = (num + 3) * 2 - 4 + 3\n",
    "print(\"Result:\", result)"
   ]
  },
  {
   "cell_type": "markdown",
   "id": "9330661f-cc7b-4073-8d48-61ae244ab083",
   "metadata": {},
   "source": [
    "Write a script that takes input as Celsius and then convert Celsius to Fahrenheit. (hint:\n",
    "Fahrenheit = (Celsius * 1.8) + 32)"
   ]
  },
  {
   "cell_type": "code",
   "execution_count": 6,
   "id": "a1586220-c3db-438f-ade6-630e5c967813",
   "metadata": {},
   "outputs": [
    {
     "name": "stdin",
     "output_type": "stream",
     "text": [
      "Enter temperature in Celsius:  19\n"
     ]
    },
    {
     "name": "stdout",
     "output_type": "stream",
     "text": [
      "Temperature in Fahrenheit: 66.2\n"
     ]
    }
   ],
   "source": [
    "celsius = float(input(\"Enter temperature in Celsius: \"))\n",
    "fahrenheit = (celsius * 1.8) + 32\n",
    "print(\"Temperature in Fahrenheit:\", fahrenheit)"
   ]
  },
  {
   "cell_type": "markdown",
   "id": "6151b886-5ba9-44e2-931b-3e0a0ae100d0",
   "metadata": {},
   "source": [
    "Write a script that takes input as radius then calculate area of circle. (hint: A = πr²)\n"
   ]
  },
  {
   "cell_type": "markdown",
   "id": "3aa96cb9-d5df-46d0-9caa-09dd53b178f4",
   "metadata": {},
   "source": [
    "import math\n",
    "radius = float(input(\"Enter the radius of the circle: \"))\n",
    "area = math.pi * (radius ** 2)\n",
    "\n",
    "print(\"Area of the circle:\", area)"
   ]
  },
  {
   "cell_type": "markdown",
   "id": "cdae527d-01a4-445e-a6c9-06932ee2c2fa",
   "metadata": {},
   "source": [
    "Write a Python script that asks users for their favourite color. Create the following output\n",
    "(assuming blue is the chosen color) (hint: use ‘+’ and ‘*’)\n",
    "blueblueblueblueblueblueblueblueblueblue\n",
    "blue blue\n",
    "blueblueblueblueblueblueblueblueblueblue"
   ]
  },
  {
   "cell_type": "code",
   "execution_count": 9,
   "id": "06593533-46f9-4799-9854-44dfd8dea677",
   "metadata": {},
   "outputs": [
    {
     "name": "stdin",
     "output_type": "stream",
     "text": [
      "What's your favorite color?  black\n"
     ]
    },
    {
     "name": "stdout",
     "output_type": "stream",
     "text": [
      "blackblackblackblackblackblackblackblackblackblack\n",
      "black black\n",
      "blackblackblackblackblackblackblackblackblackblack\n"
     ]
    }
   ],
   "source": [
    "favorite_color = input(\"What's your favorite color? \")\n",
    "print(favorite_color * 10)\n",
    "print(f\"{favorite_color} {favorite_color}\")\n",
    "print(favorite_color * 10)"
   ]
  },
  {
   "cell_type": "markdown",
   "id": "0ba8ca77-1290-46cf-8790-ad207d0d10df",
   "metadata": {},
   "source": [
    " Store a person’s name, and include some whitespace characters at the beginning and end of\n",
    "the name. Make sure you use each character combination, \"\\t\" and \"\\n\", at least once. Print\n",
    "the name once, so the whitespace around the name is displayed. Then print the name using\n",
    "each of the three stripping functions, lstrip( ), rstrip(), and strip()."
   ]
  },
  {
   "cell_type": "code",
   "execution_count": 12,
   "id": "1b159df5-1eff-41c0-bbb2-a6db4bdc9746",
   "metadata": {},
   "outputs": [
    {
     "name": "stdout",
     "output_type": "stream",
     "text": [
      "With whitespace: \t izhan \n",
      "\n",
      "Left stripped: izhan \n",
      "\n",
      "Right stripped: \t izhan\n",
      "Fully stripped: izhan\n"
     ]
    }
   ],
   "source": [
    "name = \"\\t izhan \\n\"\n",
    "print(\"With whitespace:\", name)\n",
    "print(\"Left stripped:\", name.lstrip())\n",
    "print(\"Right stripped:\", name.rstrip())\n",
    "print(\"Fully stripped:\", name.strip())"
   ]
  },
  {
   "cell_type": "markdown",
   "id": "59b3d6b7-c20b-4da0-b4aa-97a653a02c49",
   "metadata": {},
   "source": [
    "Write a python script that take a user input and to create the multiplication table (from 1 to 10)\n",
    "of that number."
   ]
  },
  {
   "cell_type": "code",
   "execution_count": 13,
   "id": "3997269a-86d2-4808-8dc3-dc68e613a9cf",
   "metadata": {},
   "outputs": [
    {
     "name": "stdin",
     "output_type": "stream",
     "text": [
      "Enter a number for multiplication table:  6\n"
     ]
    },
    {
     "name": "stdout",
     "output_type": "stream",
     "text": [
      "6 x 1 = 6\n",
      "6 x 2 = 12\n",
      "6 x 3 = 18\n",
      "6 x 4 = 24\n",
      "6 x 5 = 30\n",
      "6 x 6 = 36\n",
      "6 x 7 = 42\n",
      "6 x 8 = 48\n",
      "6 x 9 = 54\n",
      "6 x 10 = 60\n"
     ]
    }
   ],
   "source": [
    "number = int(input(\"Enter a number for multiplication table: \"))\n",
    "for i in range(1, 11):\n",
    "    print(f\"{number} x {i} = {number * i}\")"
   ]
  },
  {
   "cell_type": "markdown",
   "id": "dadafd11-9e85-4a71-b85f-a9b82d039041",
   "metadata": {},
   "source": [
    "Write a function called describe_city( ) that accepts the name of a city and its country. The\n",
    "function should print a simple sentence, such as Islamabad is in Pakistan. Give the parameter for\n",
    "the country a default value. Call your function for three different cities, at least one of which is not\n",
    "in the default country"
   ]
  },
  {
   "cell_type": "code",
   "execution_count": 14,
   "id": "0b8abe04-1fbc-48be-9163-f722dec049d9",
   "metadata": {},
   "outputs": [
    {
     "name": "stdout",
     "output_type": "stream",
     "text": [
      "Islamabad is in Pakistan.\n",
      "Lahore is in Pakistan.\n",
      "New York is in USA.\n"
     ]
    }
   ],
   "source": [
    "def describe_city(city, country=\"Pakistan\"):\n",
    "    print(f\"{city} is in {country}.\")\n",
    "\n",
    "describe_city(\"Islamabad\")\n",
    "describe_city(\"Lahore\")\n",
    "describe_city(\"New York\", \"USA\")"
   ]
  },
  {
   "cell_type": "markdown",
   "id": "2ccc448b-dc16-4542-b798-3ce125818f42",
   "metadata": {},
   "source": [
    "Write a function called absolute_num() that accepts one parameter, num. The function should\n",
    "return only positive value, and apply condition on it. This function returns the absolute value of\n",
    "the entered number."
   ]
  },
  {
   "cell_type": "code",
   "execution_count": 17,
   "id": "aafdd2e5-02f7-446e-b9a2-d7deef24449f",
   "metadata": {},
   "outputs": [
    {
     "name": "stdin",
     "output_type": "stream",
     "text": [
      "Enter a number to find its absolute value:  -33\n"
     ]
    },
    {
     "name": "stdout",
     "output_type": "stream",
     "text": [
      "Absolute value: 33.0\n"
     ]
    }
   ],
   "source": [
    "def absolute_num(num):\n",
    "    return abs(num)\n",
    "\n",
    "number = float(input(\"Enter a number to find its absolute value: \"))\n",
    "print(\"Absolute value:\", absolute_num(number))"
   ]
  },
  {
   "cell_type": "markdown",
   "id": "86d92de6-7e6b-44cb-93f2-68d70ab3d78d",
   "metadata": {},
   "source": [
    "Write Python Program to check whether an alphabet is a vowel or consonant? (use if, else\n",
    "conditional statement)"
   ]
  },
  {
   "cell_type": "code",
   "execution_count": 18,
   "id": "28ebb493-9eea-4dce-b8a5-4e6ae64e72a7",
   "metadata": {},
   "outputs": [
    {
     "name": "stdin",
     "output_type": "stream",
     "text": [
      "Enter an alphabet:  e\n"
     ]
    },
    {
     "name": "stdout",
     "output_type": "stream",
     "text": [
      "e is a vowel.\n"
     ]
    }
   ],
   "source": [
    "alphabet = input(\"Enter an alphabet: \").lower()\n",
    "if alphabet in 'aeiou':\n",
    "    print(f\"{alphabet} is a vowel.\")\n",
    "else:\n",
    "    print(f\"{alphabet} is a consonant.\")"
   ]
  },
  {
   "cell_type": "markdown",
   "id": "b7983f22-25d0-40b2-8dac-d85896610a12",
   "metadata": {},
   "source": [
    "Write a Python program to check whether a number is prime or not? (use if, else conditional\n",
    "statement)."
   ]
  },
  {
   "cell_type": "markdown",
   "id": "26f113ad-4351-4516-94d9-40d0b7f37472",
   "metadata": {},
   "source": [
    "num = int(input(\"Enter a number to check if it's prime: \"))\n",
    "is_prime = True\n",
    "if num <= 1:\n",
    "    is_prime = False\n",
    "else:\n",
    "    for i in range(2, int(num**0.5) + 1):\n",
    "        if num % i == 0:\n",
    "            is_prime = False\n",
    "            break\n",
    "print(f\"{num} is {'prime' if is_prime else 'not prime'}.\")"
   ]
  },
  {
   "cell_type": "markdown",
   "id": "45ace6db-ede7-4404-ad80-e9287e44edb0",
   "metadata": {},
   "source": [
    ".Write a Python program that prints all the numbers from 0 to 6 except 3 and 6. (Hint: Use\n",
    "'continue' statement)."
   ]
  },
  {
   "cell_type": "code",
   "execution_count": 20,
   "id": "77aff449-4421-4d58-bac8-9a6225301c26",
   "metadata": {},
   "outputs": [
    {
     "name": "stdout",
     "output_type": "stream",
     "text": [
      "0 1 2 4 5 \n"
     ]
    }
   ],
   "source": [
    "for i in range(7):\n",
    "    if i == 3 or i == 6:\n",
    "        continue\n",
    "    print(i, end=' ')\n",
    "print()"
   ]
  },
  {
   "cell_type": "markdown",
   "id": "f39500b2-5daf-49c8-98c4-ea2716703858",
   "metadata": {},
   "source": [
    ".Write a Python program to construct the following pattern. (using nested loop)\n",
    "1\n",
    "2 2\n",
    "3 3 3\n",
    "4 4 4 4\n",
    "5 5 5 5 5"
   ]
  },
  {
   "cell_type": "code",
   "execution_count": 25,
   "id": "bd7d3fda-8420-4bed-acc3-1c376b23f21f",
   "metadata": {},
   "outputs": [
    {
     "name": "stdout",
     "output_type": "stream",
     "text": [
      "1 \n",
      "2 2 \n",
      "3 3 3 \n",
      "4 4 4 4 \n",
      "5 5 5 5 5 \n"
     ]
    }
   ],
   "source": [
    "for i in range(1, 6):\n",
    "    for j in range(i):\n",
    "        print(i, end=' ')\n",
    "    print()"
   ]
  },
  {
   "cell_type": "markdown",
   "id": "5b553a71-8e50-4139-8c95-1aa4e49953f5",
   "metadata": {},
   "source": [
    "13.Stages of Life: Write an if-elif-else chain that determines a person’s stage of life. Set a value\n",
    "for the variable age, and then:\n",
    " If the person is less than 2 years old, print a message that the person is a baby.\n",
    " If the person is at least 4 years old but less than 13, print a message that the\n",
    "person is a kid.\n",
    " If the person is at least 13 years old but less than 20, print a message that the\n",
    "person is a teenager.\n",
    " If the person is at least 20 years old but less than 65, print a message that the\n",
    "person is an adult.\n",
    " If the person is age 65 or older, print a message that the person is an elder."
   ]
  },
  {
   "cell_type": "code",
   "execution_count": 29,
   "id": "dd9b9d75-7296-4639-aea8-60f76668ece9",
   "metadata": {},
   "outputs": [
    {
     "name": "stdin",
     "output_type": "stream",
     "text": [
      "Enter age:  21\n"
     ]
    },
    {
     "name": "stdout",
     "output_type": "stream",
     "text": [
      "The person is an adult.\n"
     ]
    }
   ],
   "source": [
    "age = int(input(\"Enter age: \"))\n",
    "if age < 2:\n",
    "    print(\"The person is a baby.\")\n",
    "elif 4 <= age < 13:\n",
    "    print(\"The person is a kid.\")\n",
    "elif 13 <= age < 20:\n",
    "    print(\"The person is a teenager.\")\n",
    "elif 20 <= age < 65:\n",
    "    print(\"The person is an adult.\")\n",
    "else:\n",
    "    print(\"The person is an elder.\")"
   ]
  }
 ],
 "metadata": {
  "kernelspec": {
   "display_name": "Python 3 (ipykernel)",
   "language": "python",
   "name": "python3"
  },
  "language_info": {
   "codemirror_mode": {
    "name": "ipython",
    "version": 3
   },
   "file_extension": ".py",
   "mimetype": "text/x-python",
   "name": "python",
   "nbconvert_exporter": "python",
   "pygments_lexer": "ipython3",
   "version": "3.11.7"
  }
 },
 "nbformat": 4,
 "nbformat_minor": 5
}
